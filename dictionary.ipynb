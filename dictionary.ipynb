{
 "metadata": {
  "language_info": {
   "codemirror_mode": {
    "name": "ipython",
    "version": 3
   },
   "file_extension": ".py",
   "mimetype": "text/x-python",
   "name": "python",
   "nbconvert_exporter": "python",
   "pygments_lexer": "ipython3",
   "version": "3.8.3-final"
  },
  "orig_nbformat": 2,
  "kernelspec": {
   "name": "python3",
   "display_name": "Python 3.8.3 64-bit (conda)",
   "metadata": {
    "interpreter": {
     "hash": "5fa782649c743c22c8d6102b311018506ae76162031c08e4ab1b61206b2e17dd"
    }
   }
  }
 },
 "nbformat": 4,
 "nbformat_minor": 2,
 "cells": [
  {
   "cell_type": "code",
   "execution_count": 12,
   "metadata": {},
   "outputs": [
    {
     "output_type": "stream",
     "name": "stdout",
     "text": [
      "Frekvenstabell\n1: 16624\n2: 16710\n3: 16788\n4: 16747\n5: 16655\n6: 16476\n"
     ]
    }
   ],
   "source": [
    "import random\n",
    "\n",
    "tärning = {\n",
    "    \"1:\": 0,\n",
    "    \"2:\": 0,\n",
    "    \"3:\": 0,\n",
    "    \"4:\": 0,\n",
    "    \"5:\": 0,\n",
    "    \"6:\": 0,\n",
    "}\n",
    "\n",
    "for i in range(100000):\n",
    "    kast = random.randint(1, 6)\n",
    "\n",
    "    if kast == 1:\n",
    "        tärning[\"1:\"] += 1\n",
    "\n",
    "    elif kast == 2:\n",
    "        tärning[\"2:\"] += 1\n",
    "\n",
    "    elif kast == 3:\n",
    "        tärning[\"3:\"] += 1\n",
    "\n",
    "    elif kast == 4:\n",
    "        tärning[\"4:\"] += 1\n",
    "    \n",
    "    elif kast == 5:\n",
    "        tärning[\"5:\"] += 1\n",
    "\n",
    "    elif kast == 6:\n",
    "        tärning[\"6:\"] += 1\n",
    "\n",
    "print(\"Frekvenstabell\")\n",
    "for key in tärning:\n",
    "    print(f\"{key} {tärning[key]}\")"
   ]
  },
  {
   "cell_type": "code",
   "execution_count": null,
   "metadata": {},
   "outputs": [],
   "source": []
  }
 ]
}