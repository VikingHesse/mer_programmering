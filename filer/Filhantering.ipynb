{
 "metadata": {
  "language_info": {
   "codemirror_mode": {
    "name": "ipython",
    "version": 3
   },
   "file_extension": ".py",
   "mimetype": "text/x-python",
   "name": "python",
   "nbconvert_exporter": "python",
   "pygments_lexer": "ipython3",
   "version": "3.8.3-final"
  },
  "orig_nbformat": 2,
  "kernelspec": {
   "name": "python3",
   "display_name": "Python 3.8.3 64-bit (conda)",
   "metadata": {
    "interpreter": {
     "hash": "5fa782649c743c22c8d6102b311018506ae76162031c08e4ab1b61206b2e17dd"
    }
   }
  }
 },
 "nbformat": 4,
 "nbformat_minor": 2,
 "cells": [
  {
   "cell_type": "code",
   "execution_count": 5,
   "metadata": {},
   "outputs": [
    {
     "output_type": "stream",
     "name": "stdout",
     "text": [
      "Isaac Newton 1643-01-04\n         Gallileo Gallilei 1564-02-15 \nLeonhard Euler 1707-04-15\nAlbert Einstein 1879-03-14       \n     Carl Friedrich Gauss 1799-04-30\nStephen Hawking 1942-01-08\n"
     ]
    }
   ],
   "source": [
    "try:\n",
    "    with open(\"Stora forskare.txt\", \"r\") as f1:\n",
    "        for rad in f1:\n",
    "            print(rad, end=\"\")\n",
    "except FileNotFoundError:\n",
    "    print(\"Filen hittades inte, checka stavningen\")"
   ]
  },
  {
   "cell_type": "code",
   "execution_count": 12,
   "metadata": {},
   "outputs": [
    {
     "output_type": "stream",
     "name": "stdout",
     "text": [
      "['Isaac Newton', 'Gallileo Gallilei', 'Leonhard Euler', 'Carl Friedrich Gauss']\n"
     ]
    }
   ],
   "source": [
    "före1800 = []\n",
    "with open(\"Stora forskare.txt\", \"r\") as f1:\n",
    "    for rad in f1:\n",
    "        rad = rad.strip(\" \\n\")\n",
    "        år = int(rad[-10:-6])\n",
    "\n",
    "        if år < 1800:\n",
    "            före1800.append(rad[0:-11])\n",
    "print(före1800)"
   ]
  },
  {
   "cell_type": "code",
   "execution_count": 47,
   "metadata": {},
   "outputs": [],
   "source": [
    "#2 (b)\n",
    "with open(\"Provresultat.txt\", \"a+\") as f1:\n",
    "    sorterat = sorted(open(\"Provresultat.txt\"))\n",
    "    f1.write(\"\\n\")\n",
    "    for namn in sorterat:\n",
    "        f1.write(namn)"
   ]
  },
  {
   "cell_type": "code",
   "execution_count": 64,
   "metadata": {},
   "outputs": [],
   "source": [
    "#2 (c), inte optimal lösning\n",
    "A = []\n",
    "B = []\n",
    "C = []\n",
    "D = []\n",
    "E = []\n",
    "F = []\n",
    "\n",
    "with open(\"Provresultat.txt\", \"a+\") as f1:\n",
    "    sorterat = sorted(open(\"Provresultat.txt\"))\n",
    "    f1.write(\"\\n\")\n",
    "    for namn in sorterat:\n",
    "        poäng = int(namn[-3:])\n",
    "\n",
    "        if poäng > 60:\n",
    "            A.append(namn)\n",
    "\n",
    "        elif poäng > 50:\n",
    "            B.append(namn)\n",
    "\n",
    "        elif poäng > 40:\n",
    "            C.append(namn)\n",
    "\n",
    "        elif poäng > 30:\n",
    "            D.append(namn)\n",
    "\n",
    "        elif poäng > 20:\n",
    "            E.append(namn)\n",
    "\n",
    "        else:\n",
    "            F.append(namn)\n",
    "\n",
    "    f1.write(\"F \\n\")    \n",
    "    for namn in F:\n",
    "            f1.write(namn)\n",
    "\n",
    "    f1.write(\"E \\n\")    \n",
    "    for namn in E:\n",
    "            f1.write(namn)\n",
    "\n",
    "    f1.write(\"D \\n\")    \n",
    "    for namn in D:\n",
    "            f1.write(namn)\n",
    "\n",
    "    f1.write(\"C \\n\")    \n",
    "    for namn in C:\n",
    "            f1.write(namn)\n",
    "\n",
    "    f1.write(\"B \\n\")    \n",
    "    for namn in B:\n",
    "            f1.write(namn)\n",
    "\n",
    "    f1.write(\"A \\n\")    \n",
    "    for namn in A:\n",
    "            f1.write(namn)"
   ]
  },
  {
   "cell_type": "code",
   "execution_count": 63,
   "metadata": {},
   "outputs": [],
   "source": [
    "#Har testat sortera i ordning med hjälp av dictionary, fick det att sorteras men inte att delas upp i de olika betygen. Men ville se hur dictionaries fungerade. \n",
    "namn_poäng = {}\n",
    "with open(\"Provresultat.txt\", \"a+\") as f1:\n",
    "    sorterat = sorted(open(\"Provresultat.txt\"))\n",
    "    f1.write(\"\\n\")\n",
    "    for rad in sorterat:\n",
    "        namn = rad[:-3]\n",
    "        poäng = int(rad[-3:])\n",
    "        namn_poäng[namn] = poäng\n",
    "\n",
    "    sorterad_dict = sorted(namn_poäng.items(), key=lambda x: x[1])\n",
    "\n",
    "    for namn, poäng in sorterad_dict:\n",
    "\n",
    "        if poäng > 60:\n",
    "            f1.write(f\"{namn}: {poäng}\\n\")\n",
    "\n",
    "        elif poäng > 50:\n",
    "            f1.write(f\"{namn}: {poäng}\\n\")\n",
    "\n",
    "        elif poäng > 40:\n",
    "            f1.write(f\"{namn}: {poäng}\\n\")\n",
    "\n",
    "        elif poäng > 30:\n",
    "            f1.write(f\"{namn}: {poäng}\\n\")\n",
    "\n",
    "        elif poäng > 20:\n",
    "            f1.write(f\"{namn}: {poäng}\\n\")\n",
    "\n",
    "        else:\n",
    "            f1.write(f\"{namn}: {poäng}\\n\")"
   ]
  },
  {
   "cell_type": "code",
   "execution_count": null,
   "metadata": {},
   "outputs": [],
   "source": []
  }
 ]
}