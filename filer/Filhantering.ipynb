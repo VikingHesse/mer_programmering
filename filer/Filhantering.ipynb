{
 "metadata": {
  "language_info": {
   "codemirror_mode": {
    "name": "ipython",
    "version": 3
   },
   "file_extension": ".py",
   "mimetype": "text/x-python",
   "name": "python",
   "nbconvert_exporter": "python",
   "pygments_lexer": "ipython3",
   "version": "3.8.3-final"
  },
  "orig_nbformat": 2,
  "kernelspec": {
   "name": "python3",
   "display_name": "Python 3.8.3 64-bit (conda)",
   "metadata": {
    "interpreter": {
     "hash": "5fa782649c743c22c8d6102b311018506ae76162031c08e4ab1b61206b2e17dd"
    }
   }
  }
 },
 "nbformat": 4,
 "nbformat_minor": 2,
 "cells": [
  {
   "cell_type": "code",
   "execution_count": 5,
   "metadata": {},
   "outputs": [
    {
     "output_type": "stream",
     "name": "stdout",
     "text": [
      "Isaac Newton 1643-01-04\n         Gallileo Gallilei 1564-02-15 \nLeonhard Euler 1707-04-15\nAlbert Einstein 1879-03-14       \n     Carl Friedrich Gauss 1799-04-30\nStephen Hawking 1942-01-08\n"
     ]
    }
   ],
   "source": [
    "try:\n",
    "    with open(\"Stora forskare.txt\", \"r\") as f1:\n",
    "        for rad in f1:\n",
    "            print(rad, end=\"\")\n",
    "except FileNotFoundError:\n",
    "    print(\"Filen hittades inte, checka stavningen\")"
   ]
  },
  {
   "cell_type": "code",
   "execution_count": 12,
   "metadata": {},
   "outputs": [
    {
     "output_type": "stream",
     "name": "stdout",
     "text": [
      "['Isaac Newton', 'Gallileo Gallilei', 'Leonhard Euler', 'Carl Friedrich Gauss']\n"
     ]
    }
   ],
   "source": [
    "före1800 = []\n",
    "with open(\"Stora forskare.txt\", \"r\") as f1:\n",
    "    for rad in f1:\n",
    "        rad = rad.strip(\" \\n\")\n",
    "        år = int(rad[-10:-6])\n",
    "\n",
    "        if år < 1800:\n",
    "            före1800.append(rad[0:-11])\n",
    "print(före1800)"
   ]
  },
  {
   "cell_type": "code",
   "execution_count": null,
   "metadata": {},
   "outputs": [],
   "source": [
    "with open(\"Stora forskare.txt\", \"a\") as f1:\n",
    "    f1.write(\"Pierre Curie 1859-05-15\")"
   ]
  }
 ]
}