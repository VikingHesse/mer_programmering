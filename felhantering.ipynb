{
 "metadata": {
  "language_info": {
   "codemirror_mode": {
    "name": "ipython",
    "version": 3
   },
   "file_extension": ".py",
   "mimetype": "text/x-python",
   "name": "python",
   "nbconvert_exporter": "python",
   "pygments_lexer": "ipython3",
   "version": "3.8.3-final"
  },
  "orig_nbformat": 2,
  "kernelspec": {
   "name": "python3",
   "display_name": "Python 3",
   "language": "python"
  }
 },
 "nbformat": 4,
 "nbformat_minor": 2,
 "cells": [
  {
   "cell_type": "code",
   "execution_count": 5,
   "metadata": {},
   "outputs": [
    {
     "output_type": "stream",
     "name": "stdout",
     "text": [
      "Ange tal och inte siffror\n",
      "Ange tal och inte siffror\n",
      "Ange tal och inte siffror\n",
      "Ange 5 tal\n",
      "Ange 5 tal\n",
      "Ange 5 tal\n",
      "Ange 5 tal\n",
      "Ange 5 tal\n",
      "Ange 5 tal\n",
      "Du angav talen: [3.0, 1.0, 2.0, 3.0, 4.0]\n",
      "Största talet är 4.0\n",
      "Medelvärdet är 2.6\n",
      "Medianen är 3.0\n"
     ]
    }
   ],
   "source": [
    "#4. Har bara gjort denna, tänker göra fler efter torsdag eftersom jag nu behöver öva matte istället\n",
    "while True:\n",
    "    try:\n",
    "        lista_tal = [float(tal) for tal in input(\"Ange 5 tal separerade med mellanrum: \").split()]\n",
    "\n",
    "        assert len(lista_tal) ==5, \"Ange 5 tal\"\n",
    "        break \n",
    "    except AssertionError as msg:\n",
    "        print(msg)\n",
    "    except ValueError:\n",
    "        print(\"Ange tal och inte siffror\")\n",
    "\n",
    "print(f\"Du angav talen: {lista_tal}\")\n",
    "print(f\"Största talet är {max(lista_tal)}\")\n",
    "print(f\"Medelvärdet är {sum(lista_tal) / 5}\")\n",
    "print(f\"Medianen är {sorted(lista_tal)[2]}\")\n"
   ]
  },
  {
   "cell_type": "code",
   "execution_count": null,
   "metadata": {},
   "outputs": [],
   "source": []
  }
 ]
}