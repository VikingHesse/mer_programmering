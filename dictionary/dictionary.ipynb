{
 "metadata": {
  "language_info": {
   "codemirror_mode": {
    "name": "ipython",
    "version": 3
   },
   "file_extension": ".py",
   "mimetype": "text/x-python",
   "name": "python",
   "nbconvert_exporter": "python",
   "pygments_lexer": "ipython3",
   "version": "3.8.3-final"
  },
  "orig_nbformat": 2,
  "kernelspec": {
   "name": "python3",
   "display_name": "Python 3.8.3 64-bit (conda)",
   "metadata": {
    "interpreter": {
     "hash": "5fa782649c743c22c8d6102b311018506ae76162031c08e4ab1b61206b2e17dd"
    }
   }
  }
 },
 "nbformat": 4,
 "nbformat_minor": 2,
 "cells": [
  {
   "cell_type": "code",
   "execution_count": 38,
   "metadata": {},
   "outputs": [
    {
     "output_type": "stream",
     "name": "stdout",
     "text": [
      "Frekvenstabell\n1: 16514\n2: 16590\n3: 16682\n4: 16868\n5: 16456\n6: 16890\n"
     ]
    }
   ],
   "source": [
    "#2\n",
    "import random\n",
    "\n",
    "tärning = {}\n",
    "\n",
    "for i in range(1,7):\n",
    "    tärning[f\"{i}:\"] = 0\n",
    "\n",
    "for i in range(100000):\n",
    "    kast = random.randint(1, 6)\n",
    "\n",
    "    if kast == 1:\n",
    "        tärning[\"1:\"] += 1\n",
    "\n",
    "    elif kast == 2:\n",
    "        tärning[\"2:\"] += 1\n",
    "\n",
    "    elif kast == 3:\n",
    "        tärning[\"3:\"] += 1\n",
    "\n",
    "    elif kast == 4:\n",
    "        tärning[\"4:\"] += 1\n",
    "    \n",
    "    elif kast == 5:\n",
    "        tärning[\"5:\"] += 1\n",
    "\n",
    "    elif kast == 6:\n",
    "        tärning[\"6:\"] += 1\n",
    "\n",
    "print(\"Frekvenstabell\")\n",
    "for key in tärning:\n",
    "    print(f\"{key} {tärning[key]}\")"
   ]
  },
  {
   "cell_type": "code",
   "execution_count": 54,
   "metadata": {},
   "outputs": [
    {
     "output_type": "stream",
     "name": "stdout",
     "text": [
      "S\nO\nS\n['...', '---', '...']\n"
     ]
    }
   ],
   "source": [
    "#4\n",
    "morsekod = {}\n",
    "#Öppnar filen morse.txt\n",
    "with open(\"morse.txt\") as f1:\n",
    "\n",
    "#Går igenom alla rader av filen och delar upp det i key och value där key är bokstaven och value är morsekoden. \n",
    "    for rad in f1:\n",
    "        bokstav = rad[:1]\n",
    "        kod = rad[3:]\n",
    "        morsekod[bokstav] = kod\n",
    "\n",
    "#Input om texten so ska översättas\n",
    "user_text = input(\"Vilket ord vill du få översatt?\")\n",
    "\n",
    "#Funktionen översätt\n",
    "def översätt(text):\n",
    "    #Gör en lista där det översatta ordet ska vara\n",
    "    kodad = []\n",
    "\n",
    "    #Går igenom varje bokstav i ordet och kollar om det finns som key i dictionary\n",
    "    for bokstav in user_text:\n",
    "        \n",
    "        if bokstav in morsekod:\n",
    "            print(bokstav)\n",
    "            #Hittar value till key och lägger till det i listan\n",
    "            kodad.append(morsekod[bokstav])\n",
    "            #Är tvungen att ta bort de två sista bokstäverna i det kodade eftersom det annars står \"\\n\" på slutet.\n",
    "            fullt_ord = [bokstav[:-1] for bokstav in kodad]\n",
    "\n",
    "    print(fullt_ord)\n",
    "\n",
    "översätt(user_text)"
   ]
  },
  {
   "cell_type": "code",
   "execution_count": null,
   "metadata": {},
   "outputs": [],
   "source": []
  }
 ]
}