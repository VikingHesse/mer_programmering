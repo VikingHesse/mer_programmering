{
 "metadata": {
  "language_info": {
   "codemirror_mode": {
    "name": "ipython",
    "version": 3
   },
   "file_extension": ".py",
   "mimetype": "text/x-python",
   "name": "python",
   "nbconvert_exporter": "python",
   "pygments_lexer": "ipython3",
   "version": "3.8.3-final"
  },
  "orig_nbformat": 2,
  "kernelspec": {
   "name": "python3",
   "display_name": "Python 3"
  }
 },
 "nbformat": 4,
 "nbformat_minor": 2,
 "cells": [
  {
   "cell_type": "code",
   "execution_count": null,
   "metadata": {},
   "outputs": [],
   "source": [
    "#2a\n",
    "def aritmetisk(n):\n",
    "\n",
    "    summa = 0\n",
    "\n",
    "    for n in range(0, n+1):\n",
    "        summa += (2*n + 1)\n",
    "\n",
    "    \n",
    "\n",
    "\n",
    "n = int(input(\"Ange slutet: \"))\n",
    "aritmetisk(n)"
   ]
  },
  {
   "cell_type": "code",
   "execution_count": null,
   "metadata": {},
   "outputs": [],
   "source": [
    "#2b\n",
    "def aritmetisk(n, start):\n",
    "\n",
    "    summa = 0\n",
    "\n",
    "    for n in range(start-1, n):\n",
    "        summa += (2*n + 1)\n",
    "\n",
    "    return summa\n",
    "    \n",
    "\n",
    "start = int(input(\"Ange start: \"))\n",
    "n = int(input(\"Ange slutet: \"))\n",
    "aritmetisk(n, start)"
   ]
  },
  {
   "cell_type": "code",
   "execution_count": 11,
   "metadata": {},
   "outputs": [
    {
     "output_type": "stream",
     "name": "stdout",
     "text": [
      "Avståndet mellan punkt 1 och punkt 2 är 5.39\n"
     ]
    }
   ],
   "source": [
    "#3a\n",
    "from math import sqrt\n",
    "\n",
    "P1x, P1y = 3, 3\n",
    "\n",
    "P2x, P2y = -2, 1\n",
    "\n",
    "avstånd = sqrt((P1x - P2x)**2 + (P1y - P2y)**2)\n",
    "\n",
    "print(f\"Avståndet mellan punkt 1 och punkt 2 är {round(avstånd, 2)}\")"
   ]
  },
  {
   "cell_type": "code",
   "execution_count": 17,
   "metadata": {},
   "outputs": [
    {
     "output_type": "stream",
     "name": "stdout",
     "text": [
      "Avståndet mellan punkt 1 och punkt 2 är 5.1\n"
     ]
    }
   ],
   "source": [
    "#3b\n",
    "\n",
    "def avstånd(P1x, P1y, P2x, P2y):\n",
    "\n",
    "    avståndet = sqrt((P1x - P2x)**2 + (P1y - P2y)**2)\n",
    "\n",
    "    print(f\"Avståndet mellan punkt 1 och punkt 2 är {round(avståndet, 2)}\")\n",
    "\n",
    "avstånd(3, 3, -2, 1)"
   ]
  },
  {
   "cell_type": "code",
   "execution_count": 129,
   "metadata": {},
   "outputs": [
    {
     "output_type": "stream",
     "name": "stdout",
     "text": [
      "Avståndet mellan punkt 1 och punkt 2 är 1.41\n"
     ]
    }
   ],
   "source": [
    "#3c\n",
    "import math\n",
    "\n",
    "def avstånd(P1x, P1y, P2x, P2y):\n",
    "\n",
    "    avståndet = math.sqrt((P1x - P2x)**2 + (P1y - P2y)**2)\n",
    "\n",
    "    print(f\"Avståndet mellan punkt 1 och punkt 2 är {round(avståndet, 2)}\")\n",
    "\n",
    "\n",
    "\n",
    "P1x = int(input(\"Ange punkt ett x kordinat: \"))\n",
    "P1y = int(input(\"Ange punkt ett y kordinat: \"))\n",
    "P2x = int(input(\"Ange punkt två x kordinat: \"))\n",
    "P2y = int(input(\"Ange punkt två y kordinat: \"))\n",
    "\n",
    "avstånd(P1x, P1y, P2x, P2y)"
   ]
  },
  {
   "cell_type": "code",
   "execution_count": 126,
   "metadata": {},
   "outputs": [
    {
     "output_type": "stream",
     "name": "stdout",
     "text": [
      "3 tusenlappar\n0 femhundralappar\n1 tvåhundralappar\n0 hundralappar\n1 femtiolappar\n2 tjugolappar\n0 tiokronor\n0 femkronor\n3 enkronor\n"
     ]
    }
   ],
   "source": [
    "#4 - Nog den fulaste pythonkoden som finns, men det funkar\n",
    "def pengar(summa):\n",
    "\n",
    "    antal_tusenlappar = 0\n",
    "    antal_femhundralappar = 0\n",
    "    antal_tvåhundralappar = 0\n",
    "    antal_hundralappar = 0\n",
    "    antal_femtiolappar = 0\n",
    "    antal_tjugolappar = 0\n",
    "    antal_tiokronor = 0\n",
    "    antal_femkronor = 0\n",
    "    antal_enkronor = 0\n",
    "\n",
    "    while summa > 0:\n",
    "\n",
    "        if summa >= 1000:\n",
    "            summa -= 1000\n",
    "            antal_tusenlappar += 1\n",
    "            pass\n",
    "\n",
    "        elif summa >= 500:\n",
    "            summa -= 500\n",
    "            antal_femhundralappar += 1\n",
    "            pass\n",
    "\n",
    "        elif summa >= 200:\n",
    "            summa -= 200\n",
    "            antal_tvåhundralappar += 1\n",
    "            pass\n",
    "\n",
    "        elif summa >= 100:\n",
    "            summa -= 100\n",
    "            antal_hundralappar += 1\n",
    "            pass\n",
    "\n",
    "        elif summa >= 50:\n",
    "            summa -= 50\n",
    "            antal_femtiolappar += 1\n",
    "            pass\n",
    "\n",
    "        elif summa >= 20:\n",
    "            summa -= 20\n",
    "            antal_tjugolappar += 1\n",
    "            pass\n",
    "        \n",
    "        elif summa >= 10:\n",
    "            summa -= 10\n",
    "            antal_tiokronor += 1\n",
    "            pass\n",
    "\n",
    "        elif summa >= 5:\n",
    "            summa -= 5\n",
    "            antal_femkronor += 1\n",
    "            pass\n",
    "        \n",
    "        elif summa >= 1:\n",
    "            summa -= 1\n",
    "            antal_enkronor += 1\n",
    "            pass\n",
    "\n",
    "\n",
    "    print(antal_tusenlappar, \"tusenlappar\")\n",
    "    print(antal_femhundralappar, \"femhundralappar\")\n",
    "    print(antal_tvåhundralappar, \"tvåhundralappar\")\n",
    "    print(antal_hundralappar, \"hundralappar\")\n",
    "    print(antal_femtiolappar, \"femtiolappar\")\n",
    "    print(antal_tjugolappar, \"tjugolappar\")\n",
    "    print(antal_tiokronor, \"tiokronor\")\n",
    "    print(antal_femkronor, \"femkronor\")\n",
    "    print(antal_enkronor, \"enkronor\")\n",
    "\n",
    "        \n",
    "pengar(3293)"
   ]
  },
  {
   "cell_type": "code",
   "execution_count": 68,
   "metadata": {},
   "outputs": [
    {
     "output_type": "stream",
     "name": "stdout",
     "text": [
      "Summan av fakulteten 4 är 24\n"
     ]
    }
   ],
   "source": [
    "#5a\n",
    "\n",
    "def fakulteträknare(n):\n",
    "    summa = 1\n",
    "\n",
    "    for i in range(1, n + 1):\n",
    "        summa = summa * i\n",
    "    \n",
    "    print(f\"Summan av fakulteten {n} är {summa}\")\n",
    "\n",
    "\n",
    "fakulteträknare(4)"
   ]
  },
  {
   "cell_type": "code",
   "execution_count": 120,
   "metadata": {},
   "outputs": [
    {
     "output_type": "stream",
     "name": "stdout",
     "text": [
      "2.0 = 1/0! + 1/1! + 1/2! + 1/3! + ... + 1/n!\n"
     ]
    }
   ],
   "source": [
    "#5b\n",
    "def fakulteträknare(n):\n",
    "    summa = 1\n",
    "    aritmetisk_summa = 1\n",
    "\n",
    "    for i in range(1, n+1):\n",
    "        summa = summa * i\n",
    "\n",
    "        aritmetisk_summa += 1/summa\n",
    "\n",
    "\n",
    "    print(f\"{aritmetisk_summa} = 1/0! + 1/1! + 1/2! + 1/3! + ... + 1/n!\")\n",
    "\n",
    "n = int(input(\"Ange slutvärde: \"))\n",
    "\n",
    "fakulteträknare(n)\n"
   ]
  },
  {
   "cell_type": "code",
   "execution_count": 130,
   "metadata": {},
   "outputs": [
    {
     "output_type": "execute_result",
     "data": {
      "text/plain": [
       "0.8666666666666667"
      ]
     },
     "metadata": {},
     "execution_count": 130
    }
   ],
   "source": [
    "#5c\n",
    "def aritmetisk(n):\n",
    "\n",
    "    summa = 0\n",
    "\n",
    "    for n in range(1, n+1):\n",
    "        summa += ((-1)**(n+1))/(2*n-1)\n",
    "    \n",
    "    return summa\n",
    "\n",
    "n = int(input(\"Ange slutvärde: \"))\n",
    "\n",
    "aritmetisk(n)\n"
   ]
  },
  {
   "cell_type": "code",
   "execution_count": null,
   "metadata": {},
   "outputs": [],
   "source": []
  }
 ]
}