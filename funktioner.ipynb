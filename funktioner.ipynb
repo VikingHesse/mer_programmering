{
 "metadata": {
  "language_info": {
   "codemirror_mode": {
    "name": "ipython",
    "version": 3
   },
   "file_extension": ".py",
   "mimetype": "text/x-python",
   "name": "python",
   "nbconvert_exporter": "python",
   "pygments_lexer": "ipython3",
   "version": "3.8.3-final"
  },
  "orig_nbformat": 2,
  "kernelspec": {
   "name": "python3",
   "display_name": "Python 3"
  }
 },
 "nbformat": 4,
 "nbformat_minor": 2,
 "cells": [
  {
   "cell_type": "code",
   "execution_count": 11,
   "metadata": {},
   "outputs": [
    {
     "output_type": "stream",
     "name": "stdout",
     "text": [
      "Avståndet mellan punkt 1 och punkt 2 är 5.39\n"
     ]
    }
   ],
   "source": [
    "#3a\n",
    "from math import sqrt\n",
    "\n",
    "P1x, P1y = 3, 3\n",
    "\n",
    "P2x, P2y = -2, 1\n",
    "\n",
    "avstånd = sqrt((P1x - P2x)**2 + (P1y - P2y)**2)\n",
    "\n",
    "print(f\"Avståndet mellan punkt 1 och punkt 2 är {round(avstånd, 2)}\")"
   ]
  },
  {
   "cell_type": "code",
   "execution_count": 17,
   "metadata": {},
   "outputs": [
    {
     "output_type": "stream",
     "name": "stdout",
     "text": [
      "Avståndet mellan punkt 1 och punkt 2 är 5.1\n"
     ]
    }
   ],
   "source": [
    "#3b\n",
    "\n",
    "def avstånd(P1x, P1y, P2x, P2y):\n",
    "\n",
    "    avståndet = sqrt((P1x - P2x)**2 + (P1y - P2y)**2)\n",
    "\n",
    "    print(f\"Avståndet mellan punkt 1 och punkt 2 är {round(avståndet, 2)}\")\n",
    "\n",
    "avstånd(3, 3, -2, 1)"
   ]
  },
  {
   "cell_type": "code",
   "execution_count": 20,
   "metadata": {},
   "outputs": [
    {
     "output_type": "error",
     "ename": "ValueError",
     "evalue": "invalid literal for int() with base 10: ''",
     "traceback": [
      "\u001b[1;31m---------------------------------------------------------------------------\u001b[0m",
      "\u001b[1;31mValueError\u001b[0m                                Traceback (most recent call last)",
      "\u001b[1;32m<ipython-input-20-3ab21d2b3b79>\u001b[0m in \u001b[0;36m<module>\u001b[1;34m\u001b[0m\n\u001b[0;32m      9\u001b[0m \u001b[1;33m\u001b[0m\u001b[0m\n\u001b[0;32m     10\u001b[0m \u001b[1;33m\u001b[0m\u001b[0m\n\u001b[1;32m---> 11\u001b[1;33m \u001b[0mP1x\u001b[0m \u001b[1;33m=\u001b[0m \u001b[0mint\u001b[0m\u001b[1;33m(\u001b[0m\u001b[0minput\u001b[0m\u001b[1;33m(\u001b[0m\u001b[1;34m\"Ange punkt ett x kordinat: \"\u001b[0m\u001b[1;33m)\u001b[0m\u001b[1;33m)\u001b[0m\u001b[1;33m\u001b[0m\u001b[1;33m\u001b[0m\u001b[0m\n\u001b[0m\u001b[0;32m     12\u001b[0m \u001b[0mP1y\u001b[0m \u001b[1;33m=\u001b[0m \u001b[0mint\u001b[0m\u001b[1;33m(\u001b[0m\u001b[0minput\u001b[0m\u001b[1;33m(\u001b[0m\u001b[1;34m\"Ange punkt ett y kordinat: \"\u001b[0m\u001b[1;33m)\u001b[0m\u001b[1;33m)\u001b[0m\u001b[1;33m\u001b[0m\u001b[1;33m\u001b[0m\u001b[0m\n\u001b[0;32m     13\u001b[0m \u001b[0mP2x\u001b[0m \u001b[1;33m=\u001b[0m \u001b[0mint\u001b[0m\u001b[1;33m(\u001b[0m\u001b[0minput\u001b[0m\u001b[1;33m(\u001b[0m\u001b[1;34m\"Ange punkt två x kordinat: \"\u001b[0m\u001b[1;33m)\u001b[0m\u001b[1;33m)\u001b[0m\u001b[1;33m\u001b[0m\u001b[1;33m\u001b[0m\u001b[0m\n",
      "\u001b[1;31mValueError\u001b[0m: invalid literal for int() with base 10: ''"
     ]
    }
   ],
   "source": [
    "#3c\n",
    "\n",
    "def avstånd(P1x, P1y, P2x, P2y):\n",
    "\n",
    "    avståndet = sqrt((P1x - P2x)**2 + (P1y - P2y)**2)\n",
    "\n",
    "    print(f\"Avståndet mellan punkt 1 och punkt 2 är {round(avståndet, 2)}\")\n",
    "\n",
    "\n",
    "\n",
    "P1x = int(input(\"Ange punkt ett x kordinat: \"))\n",
    "P1y = int(input(\"Ange punkt ett y kordinat: \"))\n",
    "P2x = int(input(\"Ange punkt två x kordinat: \"))\n",
    "P2y = int(input(\"Ange punkt två y kordinat: \"))\n",
    "\n",
    "avstånd(P1x, P1y, P2x, P2y)"
   ]
  },
  {
   "cell_type": "code",
   "execution_count": 31,
   "metadata": {},
   "outputs": [
    {
     "output_type": "stream",
     "name": "stdout",
     "text": [
      "103 tusenlappar\n0 femhundralappar\n1 tvåhundralappar\n0 hundralappar\n1 femtiolappar\n2 tjugolappar\n0 tiokronor\n0 femkronor\n3 enkronor\n"
     ]
    }
   ],
   "source": [
    "#4 - Nog den fulaste pythonkoden som finns, men det funkar\n",
    "def pengar(summa):\n",
    "\n",
    "    antal_tusenlappar = 0\n",
    "    antal_femhundralappar = 0\n",
    "    antal_tvåhundralappar = 0\n",
    "    antal_hundralappar = 0\n",
    "    antal_femtiolappar = 0\n",
    "    antal_tjugolappar = 0\n",
    "    antal_tiokronor = 0\n",
    "    antal_femkronor = 0\n",
    "    antal_enkronor = 0\n",
    "\n",
    "    while summa > 0:\n",
    "\n",
    "        if summa >= 1000:\n",
    "            summa -= 1000\n",
    "            antal_tusenlappar += 1\n",
    "            pass\n",
    "\n",
    "        elif summa >= 500:\n",
    "            summa -= 500\n",
    "            antal_femhundralappar += 1\n",
    "            pass\n",
    "\n",
    "        elif summa >= 200:\n",
    "            summa -= 200\n",
    "            antal_tvåhundralappar += 1\n",
    "            pass\n",
    "\n",
    "        elif summa >= 100:\n",
    "            summa -= 100\n",
    "            antal_hundralappar += 1\n",
    "            pass\n",
    "\n",
    "        elif summa >= 50:\n",
    "            summa -= 50\n",
    "            antal_femtiolappar += 1\n",
    "            pass\n",
    "\n",
    "        elif summa >= 20:\n",
    "            summa -= 20\n",
    "            antal_tjugolappar += 1\n",
    "            pass\n",
    "        \n",
    "        elif summa >= 10:\n",
    "            summa -= 10\n",
    "            antal_tiokronor += 1\n",
    "            pass\n",
    "\n",
    "        elif summa >= 5:\n",
    "            summa -= 5\n",
    "            antal_femkronor += 1\n",
    "            pass\n",
    "        \n",
    "        elif summa >= 1:\n",
    "            summa -= 1\n",
    "            antal_enkronor += 1\n",
    "            pass\n",
    "\n",
    "\n",
    "    print(antal_tusenlappar, \"tusenlappar\")\n",
    "    print(antal_femhundralappar, \"femhundralappar\")\n",
    "    print(antal_tvåhundralappar, \"tvåhundralappar\")\n",
    "    print(antal_hundralappar, \"hundralappar\")\n",
    "    print(antal_femtiolappar, \"femtiolappar\")\n",
    "    print(antal_tjugolappar, \"tjugolappar\")\n",
    "    print(antal_tiokronor, \"tiokronor\")\n",
    "    print(antal_femkronor, \"femkronor\")\n",
    "    print(antal_enkronor, \"enkronor\")\n",
    "\n",
    "        \n",
    "pengar(103293)"
   ]
  },
  {
   "cell_type": "code",
   "execution_count": null,
   "metadata": {},
   "outputs": [],
   "source": []
  }
 ]
}